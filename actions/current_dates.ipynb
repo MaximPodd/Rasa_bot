{
 "cells": [
  {
   "cell_type": "code",
   "execution_count": 5,
   "metadata": {},
   "outputs": [
    {
     "name": "stdout",
     "output_type": "stream",
     "text": [
      "Обновлено 2032 записей. Новая минимальная дата: 2025-07-09 10:00:00\n"
     ]
    }
   ],
   "source": [
    "import sqlite3\n",
    "import datetime\n",
    "\n",
    "# Устанавливаем соединение с базой данных\n",
    "connection = sqlite3.connect('rasa_db.db')\n",
    "cursor = connection.cursor()\n",
    "\n",
    "# Получаем все записи с датами\n",
    "cursor.execute('SELECT id_appointment, date FROM appointment')\n",
    "appointments = cursor.fetchall()\n",
    "\n",
    "if appointments:\n",
    "    # Парсим даты и находим минимальную\n",
    "    date_objects = []\n",
    "    for _, date_str in appointments:\n",
    "        dt = datetime.datetime.strptime(date_str, '%Y-%m-%d %H:%M:%S')\n",
    "        date_objects.append(dt)\n",
    "    \n",
    "    min_date = min(date_objects)\n",
    "    \n",
    "    # Вычисляем разницу между вчерашней датой и минимальной датой\n",
    "    yesterday = datetime.datetime.combine(\n",
    "        datetime.date.today() - datetime.timedelta(days=1),\n",
    "        min_date.time()  # Сохраняем время из оригинальной минимальной даты\n",
    "    )\n",
    "    date_diff = yesterday - min_date\n",
    "    \n",
    "    # Обновляем все даты\n",
    "    for id_appointment, date_str in appointments:\n",
    "        old_dt = datetime.datetime.strptime(date_str, '%Y-%m-%d %H:%M:%S')\n",
    "        new_dt = old_dt + date_diff\n",
    "        new_date_str = new_dt.strftime('%Y-%m-%d %H:%M:%S')\n",
    "        \n",
    "        cursor.execute(\n",
    "            'UPDATE appointment SET date = ? WHERE id_appointment = ?',\n",
    "            (new_date_str, id_appointment)\n",
    "        )\n",
    "    \n",
    "    connection.commit()\n",
    "    print(f\"Обновлено {len(appointments)} записей. Новая минимальная дата: {yesterday.strftime('%Y-%m-%d %H:%M:%S')}\")\n",
    "else:\n",
    "    print(\"Нет записей для обновления\")\n",
    "\n",
    "connection.close()"
   ]
  }
 ],
 "metadata": {
  "kernelspec": {
   "display_name": "rasa",
   "language": "python",
   "name": "python3"
  },
  "language_info": {
   "codemirror_mode": {
    "name": "ipython",
    "version": 3
   },
   "file_extension": ".py",
   "mimetype": "text/x-python",
   "name": "python",
   "nbconvert_exporter": "python",
   "pygments_lexer": "ipython3",
   "version": "3.8.10"
  }
 },
 "nbformat": 4,
 "nbformat_minor": 2
}
